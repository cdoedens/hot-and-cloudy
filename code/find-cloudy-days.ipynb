{
 "cells": [
  {
   "cell_type": "code",
   "execution_count": null,
   "id": "aaaeab63",
   "metadata": {},
   "outputs": [],
   "source": [
    "!which python3"
   ]
  },
  {
   "cell_type": "code",
   "execution_count": null,
   "id": "2ba15a03-5b08-47c6-a91d-25f99c56a1fb",
   "metadata": {},
   "outputs": [],
   "source": [
    "import xarray as xr\n",
    "import numpy as np\n",
    "import pandas as pd\n",
    "import matplotlib.pyplot as plt\n",
    "from pathlib import Path"
   ]
  },
  {
   "cell_type": "markdown",
   "id": "2e74b707-8a50-434a-bcac-a838ce4a98f4",
   "metadata": {},
   "source": [
    "# Import Data"
   ]
  },
  {
   "cell_type": "markdown",
   "id": "c3e2ea3d-4943-4261-ab98-5830fc00c146",
   "metadata": {},
   "source": [
    "Data sets are stored as netcf files, where each file is a one-dimensional time series of potential solar PV generation for each major city."
   ]
  },
  {
   "cell_type": "code",
   "execution_count": null,
   "id": "bb18c4bb-f418-4f42-871e-f36ebab0745a",
   "metadata": {},
   "outputs": [],
   "source": [
    "file_path = Path('/g/data/gb02/cd3022/hot-and-cloudy/solar-pv/GCCSA/')\n",
    "\n",
    "files = list(file_path.glob(f\"*.nc\"))\n",
    "ds = xr.open_mfdataset(files, combine='nested')"
   ]
  },
  {
   "cell_type": "code",
   "execution_count": null,
   "id": "c51e0691-6fcc-459e-950c-b2a9f5138544",
   "metadata": {},
   "outputs": [],
   "source": [
    "ds"
   ]
  },
  {
   "cell_type": "markdown",
   "id": "c4ef5a82-44c8-4ad3-81ce-4c06d25ec899",
   "metadata": {},
   "source": [
    "### Remove the missing timestep from each day"
   ]
  },
  {
   "cell_type": "markdown",
   "id": "eed706a9-3d24-4e54-81cb-1ca6e453092e",
   "metadata": {},
   "source": [
    "Himawari skips a sample once a day for maintainence. The data looks better if this time step is removed."
   ]
  },
  {
   "cell_type": "code",
   "execution_count": null,
   "id": "c92ed7db-e33c-4563-b36d-30f468f92e10",
   "metadata": {},
   "outputs": [],
   "source": [
    "ds = ds.where(ds['time'].dt.strftime('%H:%M') != '12:40', drop=True)"
   ]
  },
  {
   "cell_type": "markdown",
   "id": "609e555f-5ed9-4868-9a97-7f1449d4c26d",
   "metadata": {},
   "source": [
    "### Remove 3 bad days of Himawari data"
   ]
  },
  {
   "cell_type": "markdown",
   "id": "580f5acb-8106-4f7e-928c-fd97131fa723",
   "metadata": {},
   "source": [
    "Errors in the underlying irradiance dataset. Not during the hot months of interest, but code is here in case anyone wants to look at the other months"
   ]
  },
  {
   "cell_type": "code",
   "execution_count": null,
   "id": "4e755eb0-9d51-4116-a193-4de0023bfbef",
   "metadata": {},
   "outputs": [],
   "source": [
    "bad_days = [\n",
    "    np.datetime64('2019-08-12'),\n",
    "    np.datetime64('2019-10-01'),\n",
    "    np.datetime64('2020-09-06'),\n",
    "    \n",
    "]\n",
    "ds_dates = ds['time'].dt.floor('D')\n",
    "good_time_mask = ~ds_dates.isin(bad_days)\n",
    "ds = ds.sel(time=ds['time'][good_time_mask])"
   ]
  },
  {
   "cell_type": "markdown",
   "id": "1cd80f26-d5d1-4311-a1d9-01c95dc13238",
   "metadata": {},
   "source": [
    "### Convert to Capacity Factors"
   ]
  },
  {
   "cell_type": "code",
   "execution_count": null,
   "id": "49abe248-79e4-46d8-a33c-60a17ca2143d",
   "metadata": {},
   "outputs": [],
   "source": [
    "# Rated capacity taken from sandia_modules['Canadian_Solar_CS5P_220M___2009_'], solar panel used in pvlib system,\n",
    "# using the calculation rated_capacity = module.loc['Impo'] * module.loc['Vmpo']\n",
    "rated_capacity = 219.656729124\n",
    "ds = ds.apply(lambda x: x / rated_capacity)"
   ]
  },
  {
   "cell_type": "markdown",
   "id": "8fa60b8c-c5f9-49a1-8d20-001849f7f64f",
   "metadata": {},
   "source": [
    "### Replace missing values with 0"
   ]
  },
  {
   "cell_type": "markdown",
   "id": "8a985e94-74b6-4ea2-acff-8e3be9075e25",
   "metadata": {},
   "source": [
    "So when a daily mean is taken, days of different lengths can be compared"
   ]
  },
  {
   "cell_type": "code",
   "execution_count": null,
   "id": "6d20b9b3-cbb8-474e-a380-feedf3783042",
   "metadata": {},
   "outputs": [],
   "source": [
    "ds = xr.where(ds.isnull(), 0, ds)"
   ]
  },
  {
   "cell_type": "markdown",
   "id": "1a7cf653-5a2d-4a5a-bd31-45a9ab057cb7",
   "metadata": {},
   "source": [
    "# Plotting"
   ]
  },
  {
   "cell_type": "code",
   "execution_count": null,
   "id": "ad511711-5fbb-477a-a358-28e71e4c1195",
   "metadata": {},
   "outputs": [],
   "source": [
    "# Example day\n",
    "date = '2020-01-06'\n",
    "for reg in ds.data_vars:\n",
    "    plt.plot(ds[reg].sel(time=date), label=reg)\n",
    "    plt.legend()\n",
    "    plt.ylabel('capacity factor')"
   ]
  },
  {
   "cell_type": "code",
   "execution_count": null,
   "id": "354606eb-217a-409a-aa95-402697d5d23b",
   "metadata": {},
   "outputs": [],
   "source": [
    "# Multiple days\n",
    "start = '2020-01-06'\n",
    "end = '2020-01-10'\n",
    "for reg in ds.data_vars:\n",
    "    plt.plot(ds[reg].sel(time=slice(start, end)), label=reg)\n",
    "    plt.legend()\n",
    "    plt.ylabel('capacity factor')"
   ]
  },
  {
   "cell_type": "markdown",
   "id": "ea567e6e-75b5-4189-b12a-dba19fd66dc5",
   "metadata": {},
   "source": [
    "# Find Cloudy Days"
   ]
  },
  {
   "cell_type": "markdown",
   "id": "05a49c69-c478-4746-932e-cd128794cef7",
   "metadata": {},
   "source": [
    "Very simplified method for identifying cloudy days. The script simply converts the data into daily mean capacity factors, and then finds days that fall below a threshold of this."
   ]
  },
  {
   "cell_type": "code",
   "execution_count": null,
   "id": "f048f91d-7b4b-4c1d-a18b-d4e10a919192",
   "metadata": {},
   "outputs": [],
   "source": [
    "# Resample to daily\n",
    "daily = ds.resample(time='1D').mean()\n",
    "daily = daily.compute()\n",
    "\n",
    "# restrict data to the warm months (summer +/- 1)\n",
    "warm_months = [1,2,3,11,12]\n",
    "daily_warm_months = daily.where(daily.time.dt.month.isin(warm_months), drop=True)\n",
    "\n",
    "threshold = 0.1\n",
    "\n",
    "for reg in daily.data_vars:\n",
    "    cloudy = daily_warm_months[reg].where(daily_warm_months[reg] < threshold, drop=True)\n",
    "    print(f'Cloudy days for {reg}:')\n",
    "    print(cloudy.time)"
   ]
  }
 ],
 "metadata": {
  "kernelspec": {
   "display_name": "Python [conda env:analysis3-25.06] *",
   "language": "python",
   "name": "conda-env-analysis3-25.06-py"
  },
  "language_info": {
   "codemirror_mode": {
    "name": "ipython",
    "version": 3
   },
   "file_extension": ".py",
   "mimetype": "text/x-python",
   "name": "python",
   "nbconvert_exporter": "python",
   "pygments_lexer": "ipython3",
   "version": "3.11.13"
  }
 },
 "nbformat": 4,
 "nbformat_minor": 5
}
