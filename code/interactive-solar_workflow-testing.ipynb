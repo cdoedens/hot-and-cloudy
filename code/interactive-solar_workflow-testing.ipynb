{
 "cells": [
  {
   "cell_type": "code",
   "execution_count": 1,
   "id": "ce2a334d-f35a-4dc4-9ed2-aa296fbda120",
   "metadata": {},
   "outputs": [],
   "source": [
    "import sys\n",
    "from pathlib import Path\n",
    "\n",
    "sys.path.append('/home/548/cd3022/hot-and-cloudy/modules')\n",
    "from compute_solar2 import solar_workflow"
   ]
  },
  {
   "cell_type": "code",
   "execution_count": 2,
   "id": "8f434d29-fb01-4b39-a1ef-44fdc9dc3df7",
   "metadata": {},
   "outputs": [
    {
     "name": "stderr",
     "output_type": "stream",
     "text": [
      "2025-06-10 14:14:30,288:compute_solar2:INFO: reading data for 2015/08/01\n",
      "2025-06-10 14:14:30,290:compute_solar2:INFO: getting region shape for: GCCSA, 1GSYD\n",
      "2025-06-10 14:14:33,513:compute_solar2:INFO: chunking data with lat/lon size of: 50\n",
      "2025-06-10 14:14:33,516:compute_solar2:INFO: Loading 103 files\n",
      "2025-06-10 14:14:42,920:compute_solar2:INFO: applying regional mask\n",
      "INFO:compute_solar2:applying regional mask\n",
      "2025-06-10 14:14:43,011:compute_solar2:INFO: reading dataset variables\n",
      "INFO:compute_solar2:reading dataset variables\n",
      "2025-06-10 14:15:01,923:compute_solar2:INFO: getting ERA5 temperature\n",
      "INFO:compute_solar2:getting ERA5 temperature\n",
      "2025-06-10 14:15:02,034:compute_solar2:INFO: INPUTS INTO SOLAR_PV_GENERATION\n",
      "INFO:compute_solar2:INPUTS INTO SOLAR_PV_GENERATION\n",
      "2025-06-10 14:15:02,036:compute_solar2:INFO: GHI: (176761,)\n",
      "INFO:compute_solar2:GHI: (176761,)\n",
      "2025-06-10 14:15:02,037:compute_solar2:INFO: DNI: (176761,)\n",
      "INFO:compute_solar2:DNI: (176761,)\n",
      "2025-06-10 14:15:02,038:compute_solar2:INFO: DHI: (176761,)\n",
      "INFO:compute_solar2:DHI: (176761,)\n",
      "2025-06-10 14:15:02,039:compute_solar2:INFO: time: (176761,)\n",
      "INFO:compute_solar2:time: (176761,)\n",
      "2025-06-10 14:15:02,041:compute_solar2:INFO: lat: (176761,)\n",
      "INFO:compute_solar2:lat: (176761,)\n",
      "2025-06-10 14:15:02,042:compute_solar2:INFO: lon: (176761,)\n",
      "INFO:compute_solar2:lon: (176761,)\n",
      "2025-06-10 14:15:02,043:compute_solar2:INFO: temp: (176761,)\n",
      "INFO:compute_solar2:temp: (176761,)\n",
      "2025-06-10 14:15:02,044:compute_solar2:INFO: running pvlib functions\n",
      "INFO:compute_solar2:running pvlib functions\n",
      "2025-06-10 14:15:03,026:compute_solar2:INFO: Solar angles retrieved for: fixed\n",
      "INFO:compute_solar2:Solar angles retrieved for: fixed\n",
      "2025-06-10 14:15:03,062:compute_solar2:INFO: Actual irradiance calculated\n",
      "INFO:compute_solar2:Actual irradiance calculated\n",
      "2025-06-10 14:15:03,123:compute_solar2:INFO: Ideal irradiance calculated\n",
      "INFO:compute_solar2:Ideal irradiance calculated\n",
      "2025-06-10 14:15:03,156:compute_solar2:INFO: Power output calculated\n",
      "INFO:compute_solar2:Power output calculated\n",
      "2025-06-10 14:15:03,216:compute_solar2:INFO: Writing data to: /g/data/gb02/cd3022/hot-and-cloudy/solar-pv/GCCSA/actual/1GSYD/2015/08//1GSYD_timeseries_2015-08-01.nc\n",
      "INFO:compute_solar2:Writing data to: /g/data/gb02/cd3022/hot-and-cloudy/solar-pv/GCCSA/actual/1GSYD/2015/08//1GSYD_timeseries_2015-08-01.nc\n",
      "2025-06-10 14:15:03,302:compute_solar2:INFO: END OF SOLAR_WORKFLOW\n",
      "INFO:compute_solar2:END OF SOLAR_WORKFLOW\n"
     ]
    }
   ],
   "source": [
    "solar_workflow(date='2015/08/01', region='GCCSA_1GSYD', var='actual', tilt='fixed')"
   ]
  }
 ],
 "metadata": {
  "kernelspec": {
   "display_name": "Python [conda env:base] *",
   "language": "python",
   "name": "conda-base-py"
  },
  "language_info": {
   "codemirror_mode": {
    "name": "ipython",
    "version": 3
   },
   "file_extension": ".py",
   "mimetype": "text/x-python",
   "name": "python",
   "nbconvert_exporter": "python",
   "pygments_lexer": "ipython3",
   "version": "3.10.14"
  }
 },
 "nbformat": 4,
 "nbformat_minor": 5
}
