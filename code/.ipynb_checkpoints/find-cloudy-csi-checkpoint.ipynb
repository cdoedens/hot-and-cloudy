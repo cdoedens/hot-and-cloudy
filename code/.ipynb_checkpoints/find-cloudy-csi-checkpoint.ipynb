{
 "cells": [
  {
   "cell_type": "code",
   "execution_count": 2,
   "id": "4a170168",
   "metadata": {},
   "outputs": [],
   "source": [
    "import xarray as xr\n",
    "from pathlib import Path"
   ]
  },
  {
   "cell_type": "code",
   "execution_count": null,
   "id": "79341fea",
   "metadata": {},
   "outputs": [],
   "source": [
    "# qsub -I -q normal -P er8 -l walltime=1:00:00,ncpus=1,mem=120GB,jobfs=100MB,storage=gdata/xp65+gdata/gb02\n",
    "\n",
    "regions = [\n",
    "    '1GSYD',\n",
    "    '2GMEL',\n",
    "    '3GBRI',\n",
    "    '4GAGE',\n",
    "    '6GHOB',\n",
    "    '8ACTE',\n",
    "]\n",
    "\n",
    "for reg in regions:\n",
    "\n",
    "base_path = Path(f'/g/data/gb02/cd3022/hot-and-cloudy/solar-pv/GCCSA/{reg}')\n",
    "\n",
    "files = [f for f in base_path.rglob('*.nc')]\n",
    "\n",
    "ds = xr.open_mfdataset(\n",
    "    files,\n",
    "    combine='by_coords'\n",
    ")\n",
    "ds.to_netcdf(f'{base_path}/{reg}.nc')"
   ]
  }
 ],
 "metadata": {
  "kernelspec": {
   "display_name": "xp65_analysis3",
   "language": "python",
   "name": "xp65_analysis3"
  },
  "language_info": {
   "codemirror_mode": {
    "name": "ipython",
    "version": 3
   },
   "file_extension": ".py",
   "mimetype": "text/x-python",
   "name": "python",
   "nbconvert_exporter": "python",
   "pygments_lexer": "ipython3",
   "version": "3.11.13"
  }
 },
 "nbformat": 4,
 "nbformat_minor": 5
}
