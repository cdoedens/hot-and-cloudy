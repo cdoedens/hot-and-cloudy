{
 "cells": [
  {
   "cell_type": "code",
   "execution_count": 1,
   "id": "ce2a334d-f35a-4dc4-9ed2-aa296fbda120",
   "metadata": {},
   "outputs": [],
   "source": [
    "from compute_solar import solar_workflow"
   ]
  },
  {
   "cell_type": "code",
   "execution_count": 3,
   "id": "8f434d29-fb01-4b39-a1ef-44fdc9dc3df7",
   "metadata": {},
   "outputs": [
    {
     "name": "stderr",
     "output_type": "stream",
     "text": [
      "2025-05-27 14:20:18,298:compute_solar:INFO: reading data for 2020/05/01\n",
      "INFO:compute_solar:reading data for 2020/05/01\n",
      "2025-05-27 14:20:18,301:compute_solar:INFO: getting region shape for: GCCSA, 2GMEL\n",
      "INFO:compute_solar:getting region shape for: GCCSA, 2GMEL\n",
      "2025-05-27 14:20:21,693:compute_solar:INFO: chunking data with lat/lon size of: 50\n",
      "INFO:compute_solar:chunking data with lat/lon size of: 50\n",
      "2025-05-27 14:20:21,697:compute_solar:INFO: Loading 103 files\n",
      "INFO:compute_solar:Loading 103 files\n",
      "2025-05-27 14:20:33,288:compute_solar:INFO: applying regional mask\n",
      "INFO:compute_solar:applying regional mask\n",
      "2025-05-27 14:20:33,316:compute_solar:INFO: reading dataset variables\n",
      "INFO:compute_solar:reading dataset variables\n",
      "2025-05-27 14:20:49,586:compute_solar:INFO: getting ERA5 temperature\n",
      "INFO:compute_solar:getting ERA5 temperature\n",
      "2025-05-27 14:20:49,944:compute_solar:INFO: running pvlib functions\n",
      "INFO:compute_solar:running pvlib functions\n",
      "2025-05-27 14:20:50,940:compute_solar:INFO: Writing data to: /g/data/er8/users/cd3022/solar_drought/GCCSA/clear_sky_index/2GMEL/2020/05//2GMEL_timeseries_2020-05-01.nc\n",
      "INFO:compute_solar:Writing data to: /g/data/er8/users/cd3022/solar_drought/GCCSA/clear_sky_index/2GMEL/2020/05//2GMEL_timeseries_2020-05-01.nc\n",
      "2025-05-27 14:20:51,020:compute_solar:INFO: END OF SOLAR_WORKFLOW\n",
      "INFO:compute_solar:END OF SOLAR_WORKFLOW\n"
     ]
    }
   ],
   "source": [
    "solar_workflow(date='2020/05/01', region='GCCSA_2GMEL', var='clear_sky_index', tilt='fixed')"
   ]
  }
 ],
 "metadata": {
  "kernelspec": {
   "display_name": "Python [conda env:base] *",
   "language": "python",
   "name": "conda-base-py"
  },
  "language_info": {
   "codemirror_mode": {
    "name": "ipython",
    "version": 3
   },
   "file_extension": ".py",
   "mimetype": "text/x-python",
   "name": "python",
   "nbconvert_exporter": "python",
   "pygments_lexer": "ipython3",
   "version": "3.10.14"
  }
 },
 "nbformat": 4,
 "nbformat_minor": 5
}
